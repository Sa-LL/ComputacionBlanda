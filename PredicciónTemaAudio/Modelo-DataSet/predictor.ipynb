{
 "cells": [
  {
   "cell_type": "code",
   "execution_count": 1,
   "metadata": {},
   "outputs": [],
   "source": [
    "from sklearn.metrics import accuracy_score, confusion_matrix\n",
    "from joblib import load\n",
    "from sklearn.feature_extraction.text import TfidfVectorizer\n",
    "from funcionesTema import tag_to_theme, tokenizador\n",
    "import pickle\n",
    "import os"
   ]
  },
  {
   "cell_type": "code",
   "execution_count": 3,
   "metadata": {},
   "outputs": [],
   "source": [
    "clf = load('modeloSpanish.joblib')\n",
    "tfidf = pickle.load(open(\"tfidf.pickle\", \"rb\" ))"
   ]
  },
  {
   "cell_type": "code",
   "execution_count": 20,
   "metadata": {},
   "outputs": [
    {
     "name": "stdout",
     "output_type": "stream",
     "text": [
      "<class 'sklearn.feature_extraction.text.TfidfVectorizer'>\n"
     ]
    }
   ],
   "source": [
    "print(type(tfidf))"
   ]
  },
  {
   "cell_type": "code",
   "execution_count": 11,
   "metadata": {},
   "outputs": [
    {
     "name": "stdout",
     "output_type": "stream",
     "text": [
      "\t DEPORTES\n",
      "deportes\n",
      "deportes\n",
      "deportes\n",
      "deportes\n",
      "deportes\n",
      "deportes\n",
      "deportes\n",
      "deportes\n",
      "\t ENTRETENIMIENTO\n",
      "politica\n",
      "entretenimiento\n",
      "deportes\n",
      "entretenimiento\n",
      "entretenimiento\n",
      "entretenimiento\n",
      "\t NEGOCIOS\n",
      "negocios\n",
      "\t TECNOLOGIA\n",
      "negocios\n",
      "tecnologia\n",
      "tecnologia\n",
      "tecnologia\n",
      "tecnologia\n",
      "tecnologia\n",
      "negocios\n",
      "deportes\n",
      "tecnologia\n",
      "\t POLITICA\n",
      "negocios\n",
      "politica\n",
      "negocios\n",
      "politica\n",
      "politica\n",
      "Total analizados:  29\n",
      "Errores:  7\n",
      "Accuracy =  0.7586206896551724\n"
     ]
    }
   ],
   "source": [
    "total_analizados = 0\n",
    "errores = 0\n",
    "for carpeta in (\"deportes\", \"entretenimiento\", \"negocios\", \"tecnologia\", \"politica\"):\n",
    "    print(\"\\t\", carpeta.upper())\n",
    "    caminoDirectorio = \"datosManuales/\" + carpeta + \"/texto\"\n",
    "    for filename in os.listdir(caminoDirectorio): \n",
    "        texto = \"\"\n",
    "        try:\n",
    "            with open(caminoDirectorio + \"/\" + filename, \"r\", encoding='latin-1') as f:\n",
    "                texto = f.read()\n",
    "        \n",
    "            textTokenized = tokenizador(texto)\n",
    "\n",
    "            features_texto= tfidf.transform([textTokenized]).toarray()\n",
    "            y = clf.predict(features_texto)\n",
    "            y = tag_to_theme(y)\n",
    "            \n",
    "            total_analizados += 1\n",
    "            \n",
    "            if y != carpeta:\n",
    "                errores += 1\n",
    "            print(y)\n",
    "        except Exception as e:\n",
    "            print(\"error\", str(e))\n",
    "            continue\n",
    "print(\"Total analizados: \", total_analizados)\n",
    "print(\"Errores: \", errores)\n",
    "acc = (total_analizados - errores)/total_analizados\n",
    "print(\"Accuracy = \", (total_analizados - errores)/total_analizados)"
   ]
  }
 ],
 "metadata": {
  "kernelspec": {
   "display_name": "Python 3",
   "language": "python",
   "name": "python3"
  },
  "language_info": {
   "codemirror_mode": {
    "name": "ipython",
    "version": 3
   },
   "file_extension": ".py",
   "mimetype": "text/x-python",
   "name": "python",
   "nbconvert_exporter": "python",
   "pygments_lexer": "ipython3",
   "version": "3.7.4"
  }
 },
 "nbformat": 4,
 "nbformat_minor": 2
}
